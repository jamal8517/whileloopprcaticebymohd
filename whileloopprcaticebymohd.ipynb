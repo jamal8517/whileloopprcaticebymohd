{
 "cells": [
  {
   "cell_type": "code",
   "execution_count": 1,
   "id": "2107b96e-d725-4710-8fad-e893134bbda9",
   "metadata": {},
   "outputs": [
    {
     "name": "stdout",
     "output_type": "stream",
     "text": [
      "1\n",
      "2\n",
      "3\n",
      "4\n",
      "5\n",
      "6\n",
      "7\n",
      "8\n",
      "9\n",
      "10\n"
     ]
    }
   ],
   "source": [
    "a = 1\n",
    "while a <= 10:\n",
    "    print(a)\n",
    "    a = a + 1"
   ]
  },
  {
   "cell_type": "code",
   "execution_count": 2,
   "id": "ee410a53-dadb-414c-812c-6b688a84c8b8",
   "metadata": {},
   "outputs": [
    {
     "name": "stdin",
     "output_type": "stream",
     "text": [
      "enter your number 5\n"
     ]
    },
    {
     "data": {
      "text/plain": [
       "15"
      ]
     },
     "execution_count": 2,
     "metadata": {},
     "output_type": "execute_result"
    }
   ],
   "source": [
    "n = int(input(\"enter your number\"))\n",
    "starting_point = 0\n",
    "counter = 1\n",
    "while counter <= n:\n",
    "    starting_point = starting_point + counter\n",
    "    counter = counter + 1\n",
    "starting_point\n",
    "    "
   ]
  },
  {
   "cell_type": "code",
   "execution_count": 1,
   "id": "25db30ee-d7e2-44f6-b0ab-2c057926a8e5",
   "metadata": {},
   "outputs": [
    {
     "name": "stdin",
     "output_type": "stream",
     "text": [
      "enter your number 3\n"
     ]
    },
    {
     "data": {
      "text/plain": [
       "6"
      ]
     },
     "execution_count": 1,
     "metadata": {},
     "output_type": "execute_result"
    }
   ],
   "source": [
    "number = int(input(\"enter your number\"))\n",
    "factorial = 1\n",
    "while number > 0 :\n",
    "    factorial = factorial*number\n",
    "    number = number - 1\n",
    "factorial\n",
    "    "
   ]
  },
  {
   "cell_type": "code",
   "execution_count": 2,
   "id": "52bd9c38-2165-44cd-99da-efca188b366e",
   "metadata": {},
   "outputs": [],
   "source": [
    "#finonacci series"
   ]
  },
  {
   "cell_type": "code",
   "execution_count": 3,
   "id": "286021e2-54dd-4868-91a5-89e9e17f667e",
   "metadata": {},
   "outputs": [
    {
     "name": "stdin",
     "output_type": "stream",
     "text": [
      "enter the numbr of element you are looking for  10\n"
     ]
    },
    {
     "name": "stdout",
     "output_type": "stream",
     "text": [
      "0\n",
      "1\n",
      "1\n",
      "2\n",
      "3\n",
      "5\n",
      "8\n",
      "13\n",
      "21\n",
      "34\n"
     ]
    }
   ],
   "source": [
    "number = int(input(\"enter the numbr of element you are looking for \"))\n",
    "a , b = 0 , 1\n",
    "counter = 0\n",
    "while counter < number :\n",
    "    print(a)\n",
    "    c = a + b\n",
    "    a = b\n",
    "    b = c\n",
    "    counter = counter + 1"
   ]
  },
  {
   "cell_type": "code",
   "execution_count": 4,
   "id": "f1ef1ed7-e2c1-4941-a12d-a0c9fc41fff7",
   "metadata": {},
   "outputs": [
    {
     "name": "stdout",
     "output_type": "stream",
     "text": [
      "0\n",
      "1\n",
      "1\n",
      "2\n",
      "3\n",
      "5\n",
      "8\n",
      "13\n",
      "21\n",
      "34\n"
     ]
    }
   ],
   "source": [
    "a , b = 0 , 1\n",
    "for i in range(10) :\n",
    "    print(a)\n",
    "    c = a + b \n",
    "    a = b\n",
    "    b = c\n",
    "    "
   ]
  },
  {
   "cell_type": "code",
   "execution_count": 5,
   "id": "f3edb2cd-a732-4dab-b52e-4f3e14f8bde2",
   "metadata": {},
   "outputs": [],
   "source": [
    "s = \"sudh\"\n"
   ]
  },
  {
   "cell_type": "code",
   "execution_count": null,
   "id": "590511aa-9e7d-4b7f-86ce-4ba3ae1372e5",
   "metadata": {},
   "outputs": [],
   "source": []
  },
  {
   "cell_type": "code",
   "execution_count": 6,
   "id": "620393b5-5aff-454d-933d-11ded65e734e",
   "metadata": {},
   "outputs": [
    {
     "data": {
      "text/plain": [
       "'hdus'"
      ]
     },
     "execution_count": 6,
     "metadata": {},
     "output_type": "execute_result"
    }
   ],
   "source": [
    "s[::-1]"
   ]
  },
  {
   "cell_type": "code",
   "execution_count": 8,
   "id": "9d718b3f-0b20-47b4-ad37-1771750400e5",
   "metadata": {},
   "outputs": [
    {
     "data": {
      "text/plain": [
       "4"
      ]
     },
     "execution_count": 8,
     "metadata": {},
     "output_type": "execute_result"
    }
   ],
   "source": [
    "len(word)"
   ]
  },
  {
   "cell_type": "code",
   "execution_count": 7,
   "id": "54a93bbc-5bb8-47bf-98a6-1d73c2ec3c44",
   "metadata": {},
   "outputs": [
    {
     "name": "stdin",
     "output_type": "stream",
     "text": [
      "enter your string for revarsal sudh\n"
     ]
    }
   ],
   "source": [
    "word = input(\"enter your string for revarsal\")"
   ]
  },
  {
   "cell_type": "code",
   "execution_count": 9,
   "id": "b0c54d8b-cd16-4ef7-a70f-96002a0bdbe7",
   "metadata": {},
   "outputs": [
    {
     "name": "stdout",
     "output_type": "stream",
     "text": [
      "hdus\n"
     ]
    }
   ],
   "source": [
    "reverse = \"\"\n",
    "length = len(word)\n",
    "while length > 0 :\n",
    "    reverse = reverse + word[length - 1]\n",
    "    length = length - 1\n",
    "print(reverse)"
   ]
  },
  {
   "cell_type": "code",
   "execution_count": 10,
   "id": "dc1b8837-d5fa-4638-9990-e7bdc8ca7d6f",
   "metadata": {},
   "outputs": [],
   "source": [
    "#print table of numbers"
   ]
  },
  {
   "cell_type": "code",
   "execution_count": 12,
   "id": "407cd377-e514-4955-8a55-d83136109592",
   "metadata": {},
   "outputs": [
    {
     "name": "stdin",
     "output_type": "stream",
     "text": [
      "enter your number 2\n"
     ]
    },
    {
     "name": "stdout",
     "output_type": "stream",
     "text": [
      "2 * 1 = 2\n",
      "2 * 2 = 4\n",
      "2 * 3 = 6\n",
      "2 * 4 = 8\n",
      "2 * 5 = 10\n",
      "2 * 6 = 12\n",
      "2 * 7 = 14\n",
      "2 * 8 = 16\n",
      "2 * 9 = 18\n",
      "2 * 10 = 20\n"
     ]
    }
   ],
   "source": [
    "n = int(input(\"enter your number\"))\n",
    "i = 1 \n",
    "\n",
    "while i <= 10:\n",
    "    result = n * i \n",
    "    print(n ,\"*\" , i , \"=\" ,result)\n",
    "    i = i + 1\n",
    "        "
   ]
  },
  {
   "cell_type": "code",
   "execution_count": 13,
   "id": "c3a7fc94-3939-4251-8231-389a91752c55",
   "metadata": {},
   "outputs": [
    {
     "name": "stdout",
     "output_type": "stream",
     "text": [
      "1\n",
      "2\n",
      "3\n",
      "4\n",
      "this will be exucated once your while will comlete it succesfully\n"
     ]
    }
   ],
   "source": [
    "n = 5 \n",
    "i = 1 \n",
    "while i < n :\n",
    "    print(i)\n",
    "    i = i + 1\n",
    "else :\n",
    "    print(\"this will be exucated once your while will comlete it succesfully\")"
   ]
  },
  {
   "cell_type": "code",
   "execution_count": null,
   "id": "cf207c1d-a252-48c6-8e3c-049e263ea566",
   "metadata": {},
   "outputs": [],
   "source": [
    "n = 5 \n",
    "i = 1\n",
    "while i < n :\n",
    "    print(i)\n",
    "    if i == 3:\n",
    "        break\n",
    "    i = i + 1\n",
    "    "
   ]
  }
 ],
 "metadata": {
  "kernelspec": {
   "display_name": "Python 3 (ipykernel)",
   "language": "python",
   "name": "python3"
  },
  "language_info": {
   "codemirror_mode": {
    "name": "ipython",
    "version": 3
   },
   "file_extension": ".py",
   "mimetype": "text/x-python",
   "name": "python",
   "nbconvert_exporter": "python",
   "pygments_lexer": "ipython3",
   "version": "3.10.8"
  }
 },
 "nbformat": 4,
 "nbformat_minor": 5
}
